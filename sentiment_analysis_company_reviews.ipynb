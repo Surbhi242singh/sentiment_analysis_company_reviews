{
 "cells": [
  {
   "cell_type": "markdown",
   "id": "7d8be2c2",
   "metadata": {},
   "source": [
    "# Sentimental Analysis on company reviews"
   ]
  },
  {
   "cell_type": "code",
   "execution_count": 1,
   "id": "8eba0b92-40e2-4a45-86e0-e4f454ff7a49",
   "metadata": {},
   "outputs": [],
   "source": [
    "#importing the dependencies\n",
    "import numpy as np\n",
    "import pandas as pd"
   ]
  },
  {
   "cell_type": "code",
   "execution_count": 2,
   "id": "e54fd299-ce87-4c20-9614-28237b7d91df",
   "metadata": {},
   "outputs": [
    {
     "data": {
      "text/html": [
       "<div>\n",
       "<style scoped>\n",
       "    .dataframe tbody tr th:only-of-type {\n",
       "        vertical-align: middle;\n",
       "    }\n",
       "\n",
       "    .dataframe tbody tr th {\n",
       "        vertical-align: top;\n",
       "    }\n",
       "\n",
       "    .dataframe thead th {\n",
       "        text-align: right;\n",
       "    }\n",
       "</style>\n",
       "<table border=\"1\" class=\"dataframe\">\n",
       "  <thead>\n",
       "    <tr style=\"text-align: right;\">\n",
       "      <th></th>\n",
       "      <th>name</th>\n",
       "      <th>rating</th>\n",
       "      <th>reviews_description</th>\n",
       "    </tr>\n",
       "  </thead>\n",
       "  <tbody>\n",
       "    <tr>\n",
       "      <th>0</th>\n",
       "      <td>Sitel</td>\n",
       "      <td>NaN</td>\n",
       "      <td>Sitel Groupâs 75,000 people across the globe...</td>\n",
       "    </tr>\n",
       "    <tr>\n",
       "      <th>1</th>\n",
       "      <td>Meadowbrook Rehabilitation</td>\n",
       "      <td>3.7</td>\n",
       "      <td>You'll work with the most experienced and loya...</td>\n",
       "    </tr>\n",
       "    <tr>\n",
       "      <th>2</th>\n",
       "      <td>Intermountain</td>\n",
       "      <td>4.0</td>\n",
       "      <td>Why Intermountain?\\n\\nWe Bring Hope\\n\\nWith ou...</td>\n",
       "    </tr>\n",
       "    <tr>\n",
       "      <th>3</th>\n",
       "      <td>Smith &amp; Nephew</td>\n",
       "      <td>NaN</td>\n",
       "      <td>It's more than business at Smith+Nephew - it's...</td>\n",
       "    </tr>\n",
       "    <tr>\n",
       "      <th>4</th>\n",
       "      <td>Reverse Mortgage Funding</td>\n",
       "      <td>4.1</td>\n",
       "      <td>Reverse Mortgage Funding LLC is committed to e...</td>\n",
       "    </tr>\n",
       "    <tr>\n",
       "      <th>...</th>\n",
       "      <td>...</td>\n",
       "      <td>...</td>\n",
       "      <td>...</td>\n",
       "    </tr>\n",
       "    <tr>\n",
       "      <th>17045</th>\n",
       "      <td>Billion Automotive</td>\n",
       "      <td>3.2</td>\n",
       "      <td>Billion Automotive, a family owned business si...</td>\n",
       "    </tr>\n",
       "    <tr>\n",
       "      <th>17046</th>\n",
       "      <td>ScienceLogic Inc</td>\n",
       "      <td>3.0</td>\n",
       "      <td>ScienceLogic is a leader in IT Operations Mana...</td>\n",
       "    </tr>\n",
       "    <tr>\n",
       "      <th>17047</th>\n",
       "      <td>Northland PACE</td>\n",
       "      <td>2.5</td>\n",
       "      <td>Northland PACE Senior Care Services has at its...</td>\n",
       "    </tr>\n",
       "    <tr>\n",
       "      <th>17048</th>\n",
       "      <td>Lloyd Staffing</td>\n",
       "      <td>3.9</td>\n",
       "      <td>At LLoyd, we are not just agents of talent, bu...</td>\n",
       "    </tr>\n",
       "    <tr>\n",
       "      <th>17049</th>\n",
       "      <td>North Star Insurance Advisors, LLC</td>\n",
       "      <td>3.8</td>\n",
       "      <td>North Star Insurance Advisors, LLC is a premiu...</td>\n",
       "    </tr>\n",
       "  </tbody>\n",
       "</table>\n",
       "<p>17050 rows × 3 columns</p>\n",
       "</div>"
      ],
      "text/plain": [
       "                                     name  rating  \\\n",
       "0                                   Sitel     NaN   \n",
       "1              Meadowbrook Rehabilitation     3.7   \n",
       "2                           Intermountain     4.0   \n",
       "3                          Smith & Nephew     NaN   \n",
       "4                Reverse Mortgage Funding     4.1   \n",
       "...                                   ...     ...   \n",
       "17045                  Billion Automotive     3.2   \n",
       "17046                    ScienceLogic Inc     3.0   \n",
       "17047                      Northland PACE     2.5   \n",
       "17048                      Lloyd Staffing     3.9   \n",
       "17049  North Star Insurance Advisors, LLC     3.8   \n",
       "\n",
       "                                     reviews_description  \n",
       "0      Sitel Groupâs 75,000 people across the globe...  \n",
       "1      You'll work with the most experienced and loya...  \n",
       "2      Why Intermountain?\\n\\nWe Bring Hope\\n\\nWith ou...  \n",
       "3      It's more than business at Smith+Nephew - it's...  \n",
       "4      Reverse Mortgage Funding LLC is committed to e...  \n",
       "...                                                  ...  \n",
       "17045  Billion Automotive, a family owned business si...  \n",
       "17046  ScienceLogic is a leader in IT Operations Mana...  \n",
       "17047  Northland PACE Senior Care Services has at its...  \n",
       "17048  At LLoyd, we are not just agents of talent, bu...  \n",
       "17049  North Star Insurance Advisors, LLC is a premiu...  \n",
       "\n",
       "[17050 rows x 3 columns]"
      ]
     },
     "execution_count": 2,
     "metadata": {},
     "output_type": "execute_result"
    }
   ],
   "source": [
    "import warnings\n",
    "warnings.filterwarnings(\"ignore\", category=FutureWarning)\n",
    "df=pd.read_csv(\"company_reviews.csv\",encoding=\"ISO-8859-1\")\n",
    "df"
   ]
  },
  {
   "cell_type": "code",
   "execution_count": 4,
   "id": "5df4c140",
   "metadata": {},
   "outputs": [
    {
     "data": {
      "text/plain": [
       "name                    338\n",
       "rating                 1434\n",
       "reviews_description       1\n",
       "dtype: int64"
      ]
     },
     "execution_count": 4,
     "metadata": {},
     "output_type": "execute_result"
    }
   ],
   "source": [
    "df.isnull().sum()"
   ]
  },
  {
   "cell_type": "code",
   "execution_count": 8,
   "id": "f75d991f",
   "metadata": {},
   "outputs": [],
   "source": [
    "df.dropna(inplace=True)"
   ]
  },
  {
   "cell_type": "code",
   "execution_count": 9,
   "id": "9bcae7ef",
   "metadata": {},
   "outputs": [
    {
     "data": {
      "text/plain": [
       "name                   0\n",
       "rating                 0\n",
       "reviews_description    0\n",
       "dtype: int64"
      ]
     },
     "execution_count": 9,
     "metadata": {},
     "output_type": "execute_result"
    }
   ],
   "source": [
    "df.isnull().sum()"
   ]
  },
  {
   "cell_type": "code",
   "execution_count": 10,
   "id": "e456d2b5",
   "metadata": {},
   "outputs": [
    {
     "data": {
      "text/html": [
       "<div>\n",
       "<style scoped>\n",
       "    .dataframe tbody tr th:only-of-type {\n",
       "        vertical-align: middle;\n",
       "    }\n",
       "\n",
       "    .dataframe tbody tr th {\n",
       "        vertical-align: top;\n",
       "    }\n",
       "\n",
       "    .dataframe thead th {\n",
       "        text-align: right;\n",
       "    }\n",
       "</style>\n",
       "<table border=\"1\" class=\"dataframe\">\n",
       "  <thead>\n",
       "    <tr style=\"text-align: right;\">\n",
       "      <th></th>\n",
       "      <th>name</th>\n",
       "      <th>rating</th>\n",
       "      <th>reviews_description</th>\n",
       "      <th>Sentiment_category</th>\n",
       "    </tr>\n",
       "  </thead>\n",
       "  <tbody>\n",
       "    <tr>\n",
       "      <th>1</th>\n",
       "      <td>Meadowbrook Rehabilitation</td>\n",
       "      <td>3.7</td>\n",
       "      <td>You'll work with the most experienced and loya...</td>\n",
       "      <td>Positive</td>\n",
       "    </tr>\n",
       "    <tr>\n",
       "      <th>2</th>\n",
       "      <td>Intermountain</td>\n",
       "      <td>4.0</td>\n",
       "      <td>Why Intermountain?\\n\\nWe Bring Hope\\n\\nWith ou...</td>\n",
       "      <td>Positive</td>\n",
       "    </tr>\n",
       "    <tr>\n",
       "      <th>4</th>\n",
       "      <td>Reverse Mortgage Funding</td>\n",
       "      <td>4.1</td>\n",
       "      <td>Reverse Mortgage Funding LLC is committed to e...</td>\n",
       "      <td>Neutral</td>\n",
       "    </tr>\n",
       "    <tr>\n",
       "      <th>5</th>\n",
       "      <td>VeriFone</td>\n",
       "      <td>3.4</td>\n",
       "      <td>Verifone is an American multinational corporat...</td>\n",
       "      <td>Negative</td>\n",
       "    </tr>\n",
       "    <tr>\n",
       "      <th>6</th>\n",
       "      <td>VBM Auto Group</td>\n",
       "      <td>3.5</td>\n",
       "      <td>This company is family owned and operated with...</td>\n",
       "      <td>Positive</td>\n",
       "    </tr>\n",
       "    <tr>\n",
       "      <th>...</th>\n",
       "      <td>...</td>\n",
       "      <td>...</td>\n",
       "      <td>...</td>\n",
       "      <td>...</td>\n",
       "    </tr>\n",
       "    <tr>\n",
       "      <th>17045</th>\n",
       "      <td>Billion Automotive</td>\n",
       "      <td>3.2</td>\n",
       "      <td>Billion Automotive, a family owned business si...</td>\n",
       "      <td>Positive</td>\n",
       "    </tr>\n",
       "    <tr>\n",
       "      <th>17046</th>\n",
       "      <td>ScienceLogic Inc</td>\n",
       "      <td>3.0</td>\n",
       "      <td>ScienceLogic is a leader in IT Operations Mana...</td>\n",
       "      <td>Positive</td>\n",
       "    </tr>\n",
       "    <tr>\n",
       "      <th>17047</th>\n",
       "      <td>Northland PACE</td>\n",
       "      <td>2.5</td>\n",
       "      <td>Northland PACE Senior Care Services has at its...</td>\n",
       "      <td>Positive</td>\n",
       "    </tr>\n",
       "    <tr>\n",
       "      <th>17048</th>\n",
       "      <td>Lloyd Staffing</td>\n",
       "      <td>3.9</td>\n",
       "      <td>At LLoyd, we are not just agents of talent, bu...</td>\n",
       "      <td>Positive</td>\n",
       "    </tr>\n",
       "    <tr>\n",
       "      <th>17049</th>\n",
       "      <td>North Star Insurance Advisors, LLC</td>\n",
       "      <td>3.8</td>\n",
       "      <td>North Star Insurance Advisors, LLC is a premiu...</td>\n",
       "      <td>Positive</td>\n",
       "    </tr>\n",
       "  </tbody>\n",
       "</table>\n",
       "<p>15615 rows × 4 columns</p>\n",
       "</div>"
      ],
      "text/plain": [
       "                                     name  rating  \\\n",
       "1              Meadowbrook Rehabilitation     3.7   \n",
       "2                           Intermountain     4.0   \n",
       "4                Reverse Mortgage Funding     4.1   \n",
       "5                                VeriFone     3.4   \n",
       "6                          VBM Auto Group     3.5   \n",
       "...                                   ...     ...   \n",
       "17045                  Billion Automotive     3.2   \n",
       "17046                    ScienceLogic Inc     3.0   \n",
       "17047                      Northland PACE     2.5   \n",
       "17048                      Lloyd Staffing     3.9   \n",
       "17049  North Star Insurance Advisors, LLC     3.8   \n",
       "\n",
       "                                     reviews_description Sentiment_category  \n",
       "1      You'll work with the most experienced and loya...           Positive  \n",
       "2      Why Intermountain?\\n\\nWe Bring Hope\\n\\nWith ou...           Positive  \n",
       "4      Reverse Mortgage Funding LLC is committed to e...            Neutral  \n",
       "5      Verifone is an American multinational corporat...           Negative  \n",
       "6      This company is family owned and operated with...           Positive  \n",
       "...                                                  ...                ...  \n",
       "17045  Billion Automotive, a family owned business si...           Positive  \n",
       "17046  ScienceLogic is a leader in IT Operations Mana...           Positive  \n",
       "17047  Northland PACE Senior Care Services has at its...           Positive  \n",
       "17048  At LLoyd, we are not just agents of talent, bu...           Positive  \n",
       "17049  North Star Insurance Advisors, LLC is a premiu...           Positive  \n",
       "\n",
       "[15615 rows x 4 columns]"
      ]
     },
     "execution_count": 10,
     "metadata": {},
     "output_type": "execute_result"
    }
   ],
   "source": [
    "#convert to positive and negative sentiments\n",
    "from textblob import TextBlob\n",
    "\n",
    "def classify_sentiment(text):\n",
    "    blob=TextBlob(text)\n",
    "    sentiment_score=blob.sentiment.polarity\n",
    "    if sentiment_score>0:\n",
    "        return 'Positive'\n",
    "    elif sentiment_score<0:\n",
    "        return 'Negative'\n",
    "    else:\n",
    "        return 'Neutral'\n",
    "    \n",
    "df['Sentiment_category']=df['reviews_description'].apply(classify_sentiment)\n",
    "df"
   ]
  },
  {
   "cell_type": "code",
   "execution_count": 11,
   "id": "829a6822",
   "metadata": {},
   "outputs": [
    {
     "data": {
      "text/html": [
       "<div>\n",
       "<style scoped>\n",
       "    .dataframe tbody tr th:only-of-type {\n",
       "        vertical-align: middle;\n",
       "    }\n",
       "\n",
       "    .dataframe tbody tr th {\n",
       "        vertical-align: top;\n",
       "    }\n",
       "\n",
       "    .dataframe thead th {\n",
       "        text-align: right;\n",
       "    }\n",
       "</style>\n",
       "<table border=\"1\" class=\"dataframe\">\n",
       "  <thead>\n",
       "    <tr style=\"text-align: right;\">\n",
       "      <th></th>\n",
       "      <th>name</th>\n",
       "      <th>rating</th>\n",
       "      <th>reviews_description</th>\n",
       "      <th>Sentiment_category</th>\n",
       "    </tr>\n",
       "  </thead>\n",
       "  <tbody>\n",
       "    <tr>\n",
       "      <th>1</th>\n",
       "      <td>Meadowbrook Rehabilitation</td>\n",
       "      <td>3.7</td>\n",
       "      <td>You'll work with the most experienced and loya...</td>\n",
       "      <td>Positive</td>\n",
       "    </tr>\n",
       "    <tr>\n",
       "      <th>2</th>\n",
       "      <td>Intermountain</td>\n",
       "      <td>4.0</td>\n",
       "      <td>Why Intermountain?\\n\\nWe Bring Hope\\n\\nWith ou...</td>\n",
       "      <td>Positive</td>\n",
       "    </tr>\n",
       "    <tr>\n",
       "      <th>4</th>\n",
       "      <td>Reverse Mortgage Funding</td>\n",
       "      <td>4.1</td>\n",
       "      <td>Reverse Mortgage Funding LLC is committed to e...</td>\n",
       "      <td>Neutral</td>\n",
       "    </tr>\n",
       "    <tr>\n",
       "      <th>5</th>\n",
       "      <td>VeriFone</td>\n",
       "      <td>3.4</td>\n",
       "      <td>Verifone is an American multinational corporat...</td>\n",
       "      <td>Negative</td>\n",
       "    </tr>\n",
       "    <tr>\n",
       "      <th>6</th>\n",
       "      <td>VBM Auto Group</td>\n",
       "      <td>3.5</td>\n",
       "      <td>This company is family owned and operated with...</td>\n",
       "      <td>Positive</td>\n",
       "    </tr>\n",
       "    <tr>\n",
       "      <th>...</th>\n",
       "      <td>...</td>\n",
       "      <td>...</td>\n",
       "      <td>...</td>\n",
       "      <td>...</td>\n",
       "    </tr>\n",
       "    <tr>\n",
       "      <th>17045</th>\n",
       "      <td>Billion Automotive</td>\n",
       "      <td>3.2</td>\n",
       "      <td>Billion Automotive, a family owned business si...</td>\n",
       "      <td>Positive</td>\n",
       "    </tr>\n",
       "    <tr>\n",
       "      <th>17046</th>\n",
       "      <td>ScienceLogic Inc</td>\n",
       "      <td>3.0</td>\n",
       "      <td>ScienceLogic is a leader in IT Operations Mana...</td>\n",
       "      <td>Positive</td>\n",
       "    </tr>\n",
       "    <tr>\n",
       "      <th>17047</th>\n",
       "      <td>Northland PACE</td>\n",
       "      <td>2.5</td>\n",
       "      <td>Northland PACE Senior Care Services has at its...</td>\n",
       "      <td>Positive</td>\n",
       "    </tr>\n",
       "    <tr>\n",
       "      <th>17048</th>\n",
       "      <td>Lloyd Staffing</td>\n",
       "      <td>3.9</td>\n",
       "      <td>At LLoyd, we are not just agents of talent, bu...</td>\n",
       "      <td>Positive</td>\n",
       "    </tr>\n",
       "    <tr>\n",
       "      <th>17049</th>\n",
       "      <td>North Star Insurance Advisors, LLC</td>\n",
       "      <td>3.8</td>\n",
       "      <td>North Star Insurance Advisors, LLC is a premiu...</td>\n",
       "      <td>Positive</td>\n",
       "    </tr>\n",
       "  </tbody>\n",
       "</table>\n",
       "<p>15615 rows × 4 columns</p>\n",
       "</div>"
      ],
      "text/plain": [
       "                                     name  rating  \\\n",
       "1              Meadowbrook Rehabilitation     3.7   \n",
       "2                           Intermountain     4.0   \n",
       "4                Reverse Mortgage Funding     4.1   \n",
       "5                                VeriFone     3.4   \n",
       "6                          VBM Auto Group     3.5   \n",
       "...                                   ...     ...   \n",
       "17045                  Billion Automotive     3.2   \n",
       "17046                    ScienceLogic Inc     3.0   \n",
       "17047                      Northland PACE     2.5   \n",
       "17048                      Lloyd Staffing     3.9   \n",
       "17049  North Star Insurance Advisors, LLC     3.8   \n",
       "\n",
       "                                     reviews_description Sentiment_category  \n",
       "1      You'll work with the most experienced and loya...           Positive  \n",
       "2      Why Intermountain?\\n\\nWe Bring Hope\\n\\nWith ou...           Positive  \n",
       "4      Reverse Mortgage Funding LLC is committed to e...            Neutral  \n",
       "5      Verifone is an American multinational corporat...           Negative  \n",
       "6      This company is family owned and operated with...           Positive  \n",
       "...                                                  ...                ...  \n",
       "17045  Billion Automotive, a family owned business si...           Positive  \n",
       "17046  ScienceLogic is a leader in IT Operations Mana...           Positive  \n",
       "17047  Northland PACE Senior Care Services has at its...           Positive  \n",
       "17048  At LLoyd, we are not just agents of talent, bu...           Positive  \n",
       "17049  North Star Insurance Advisors, LLC is a premiu...           Positive  \n",
       "\n",
       "[15615 rows x 4 columns]"
      ]
     },
     "execution_count": 11,
     "metadata": {},
     "output_type": "execute_result"
    }
   ],
   "source": [
    "df"
   ]
  },
  {
   "cell_type": "code",
   "execution_count": 13,
   "id": "61e8a616",
   "metadata": {},
   "outputs": [],
   "source": [
    "import re        #regular expression\n",
    "from nltk.corpus import stopwords\n",
    "from nltk.stem.porter import PorterStemmer\n",
    "from sklearn.feature_extraction.text import TfidfVectorizer    #to convert textual data to numerical data\n",
    "from sklearn.model_selection import train_test_split     #to split the data into training and testing datasets\n",
    "from sklearn.linear_model import LogisticRegression\n",
    "from sklearn.metrics import accuracy_score"
   ]
  },
  {
   "cell_type": "code",
   "execution_count": 14,
   "id": "e5a39ad8",
   "metadata": {
    "scrolled": true
   },
   "outputs": [
    {
     "name": "stderr",
     "output_type": "stream",
     "text": [
      "[nltk_data] Downloading package stopwords to C:\\Users\\Surbhi\n",
      "[nltk_data]     Singh\\AppData\\Roaming\\nltk_data...\n",
      "[nltk_data]   Package stopwords is already up-to-date!\n"
     ]
    },
    {
     "data": {
      "text/plain": [
       "True"
      ]
     },
     "execution_count": 14,
     "metadata": {},
     "output_type": "execute_result"
    }
   ],
   "source": [
    "import nltk\n",
    "nltk.download('stopwords')"
   ]
  },
  {
   "cell_type": "code",
   "execution_count": 15,
   "id": "78c0de14",
   "metadata": {},
   "outputs": [
    {
     "name": "stdout",
     "output_type": "stream",
     "text": [
      "['i', 'me', 'my', 'myself', 'we', 'our', 'ours', 'ourselves', 'you', \"you're\", \"you've\", \"you'll\", \"you'd\", 'your', 'yours', 'yourself', 'yourselves', 'he', 'him', 'his', 'himself', 'she', \"she's\", 'her', 'hers', 'herself', 'it', \"it's\", 'its', 'itself', 'they', 'them', 'their', 'theirs', 'themselves', 'what', 'which', 'who', 'whom', 'this', 'that', \"that'll\", 'these', 'those', 'am', 'is', 'are', 'was', 'were', 'be', 'been', 'being', 'have', 'has', 'had', 'having', 'do', 'does', 'did', 'doing', 'a', 'an', 'the', 'and', 'but', 'if', 'or', 'because', 'as', 'until', 'while', 'of', 'at', 'by', 'for', 'with', 'about', 'against', 'between', 'into', 'through', 'during', 'before', 'after', 'above', 'below', 'to', 'from', 'up', 'down', 'in', 'out', 'on', 'off', 'over', 'under', 'again', 'further', 'then', 'once', 'here', 'there', 'when', 'where', 'why', 'how', 'all', 'any', 'both', 'each', 'few', 'more', 'most', 'other', 'some', 'such', 'no', 'nor', 'not', 'only', 'own', 'same', 'so', 'than', 'too', 'very', 's', 't', 'can', 'will', 'just', 'don', \"don't\", 'should', \"should've\", 'now', 'd', 'll', 'm', 'o', 're', 've', 'y', 'ain', 'aren', \"aren't\", 'couldn', \"couldn't\", 'didn', \"didn't\", 'doesn', \"doesn't\", 'hadn', \"hadn't\", 'hasn', \"hasn't\", 'haven', \"haven't\", 'isn', \"isn't\", 'ma', 'mightn', \"mightn't\", 'mustn', \"mustn't\", 'needn', \"needn't\", 'shan', \"shan't\", 'shouldn', \"shouldn't\", 'wasn', \"wasn't\", 'weren', \"weren't\", 'won', \"won't\", 'wouldn', \"wouldn't\"]\n"
     ]
    }
   ],
   "source": [
    "#printing the stopwords (don't add any influential meaning to the data) in english\n",
    "print(stopwords.words('english'))"
   ]
  },
  {
   "cell_type": "markdown",
   "id": "d6a975c3",
   "metadata": {},
   "source": [
    "# Data processing"
   ]
  },
  {
   "cell_type": "code",
   "execution_count": 16,
   "id": "c765b353",
   "metadata": {},
   "outputs": [
    {
     "data": {
      "text/plain": [
       "(15615, 4)"
      ]
     },
     "execution_count": 16,
     "metadata": {},
     "output_type": "execute_result"
    }
   ],
   "source": [
    "df.shape"
   ]
  },
  {
   "cell_type": "code",
   "execution_count": 17,
   "id": "df2b8354",
   "metadata": {},
   "outputs": [
    {
     "data": {
      "text/html": [
       "<div>\n",
       "<style scoped>\n",
       "    .dataframe tbody tr th:only-of-type {\n",
       "        vertical-align: middle;\n",
       "    }\n",
       "\n",
       "    .dataframe tbody tr th {\n",
       "        vertical-align: top;\n",
       "    }\n",
       "\n",
       "    .dataframe thead th {\n",
       "        text-align: right;\n",
       "    }\n",
       "</style>\n",
       "<table border=\"1\" class=\"dataframe\">\n",
       "  <thead>\n",
       "    <tr style=\"text-align: right;\">\n",
       "      <th></th>\n",
       "      <th>name</th>\n",
       "      <th>rating</th>\n",
       "      <th>reviews_description</th>\n",
       "      <th>Sentiment_category</th>\n",
       "    </tr>\n",
       "  </thead>\n",
       "  <tbody>\n",
       "    <tr>\n",
       "      <th>1</th>\n",
       "      <td>Meadowbrook Rehabilitation</td>\n",
       "      <td>3.7</td>\n",
       "      <td>You'll work with the most experienced and loya...</td>\n",
       "      <td>Positive</td>\n",
       "    </tr>\n",
       "    <tr>\n",
       "      <th>2</th>\n",
       "      <td>Intermountain</td>\n",
       "      <td>4.0</td>\n",
       "      <td>Why Intermountain?\\n\\nWe Bring Hope\\n\\nWith ou...</td>\n",
       "      <td>Positive</td>\n",
       "    </tr>\n",
       "    <tr>\n",
       "      <th>4</th>\n",
       "      <td>Reverse Mortgage Funding</td>\n",
       "      <td>4.1</td>\n",
       "      <td>Reverse Mortgage Funding LLC is committed to e...</td>\n",
       "      <td>Neutral</td>\n",
       "    </tr>\n",
       "    <tr>\n",
       "      <th>5</th>\n",
       "      <td>VeriFone</td>\n",
       "      <td>3.4</td>\n",
       "      <td>Verifone is an American multinational corporat...</td>\n",
       "      <td>Negative</td>\n",
       "    </tr>\n",
       "    <tr>\n",
       "      <th>6</th>\n",
       "      <td>VBM Auto Group</td>\n",
       "      <td>3.5</td>\n",
       "      <td>This company is family owned and operated with...</td>\n",
       "      <td>Positive</td>\n",
       "    </tr>\n",
       "  </tbody>\n",
       "</table>\n",
       "</div>"
      ],
      "text/plain": [
       "                         name  rating  \\\n",
       "1  Meadowbrook Rehabilitation     3.7   \n",
       "2               Intermountain     4.0   \n",
       "4    Reverse Mortgage Funding     4.1   \n",
       "5                    VeriFone     3.4   \n",
       "6              VBM Auto Group     3.5   \n",
       "\n",
       "                                 reviews_description Sentiment_category  \n",
       "1  You'll work with the most experienced and loya...           Positive  \n",
       "2  Why Intermountain?\\n\\nWe Bring Hope\\n\\nWith ou...           Positive  \n",
       "4  Reverse Mortgage Funding LLC is committed to e...            Neutral  \n",
       "5  Verifone is an American multinational corporat...           Negative  \n",
       "6  This company is family owned and operated with...           Positive  "
      ]
     },
     "execution_count": 17,
     "metadata": {},
     "output_type": "execute_result"
    }
   ],
   "source": [
    "df.head()"
   ]
  },
  {
   "cell_type": "markdown",
   "id": "07268484",
   "metadata": {},
   "source": [
    "# Stemming"
   ]
  },
  {
   "cell_type": "code",
   "execution_count": 22,
   "id": "0a20d49f",
   "metadata": {},
   "outputs": [],
   "source": [
    "#Stemming->used to reduce the word to its root word\n",
    "port_stem=PorterStemmer()\n",
    "def stemming(content):\n",
    "    stemmed_content=re.sub('[^a-zA-Z]','',content)                #remove everything that is not alphabet\n",
    "    stemmed_content=stemmed_content.lower()\n",
    "    stemmed_content=stemmed_content.split()\n",
    "    stemmed_content=[port_stem.stem(word) for word in stemmed_content if word not in stopwords.words('english')]\n",
    "    stemmed_content=' '.join(stemmed_content)\n",
    "    return stemmed_content"
   ]
  },
  {
   "cell_type": "code",
   "execution_count": 23,
   "id": "733fdc25",
   "metadata": {},
   "outputs": [],
   "source": [
    "df['stemmed_content'] = df['reviews_description'].apply(stemming)"
   ]
  },
  {
   "cell_type": "code",
   "execution_count": 24,
   "id": "36fc8b6a",
   "metadata": {},
   "outputs": [
    {
     "data": {
      "text/html": [
       "<div>\n",
       "<style scoped>\n",
       "    .dataframe tbody tr th:only-of-type {\n",
       "        vertical-align: middle;\n",
       "    }\n",
       "\n",
       "    .dataframe tbody tr th {\n",
       "        vertical-align: top;\n",
       "    }\n",
       "\n",
       "    .dataframe thead th {\n",
       "        text-align: right;\n",
       "    }\n",
       "</style>\n",
       "<table border=\"1\" class=\"dataframe\">\n",
       "  <thead>\n",
       "    <tr style=\"text-align: right;\">\n",
       "      <th></th>\n",
       "      <th>name</th>\n",
       "      <th>rating</th>\n",
       "      <th>reviews_description</th>\n",
       "      <th>Sentiment_category</th>\n",
       "      <th>stemmed_content</th>\n",
       "    </tr>\n",
       "  </thead>\n",
       "  <tbody>\n",
       "    <tr>\n",
       "      <th>1</th>\n",
       "      <td>Meadowbrook Rehabilitation</td>\n",
       "      <td>3.7</td>\n",
       "      <td>You'll work with the most experienced and loya...</td>\n",
       "      <td>Positive</td>\n",
       "      <td>youllworkwiththemostexperiencedandloyalhealthc...</td>\n",
       "    </tr>\n",
       "    <tr>\n",
       "      <th>2</th>\n",
       "      <td>Intermountain</td>\n",
       "      <td>4.0</td>\n",
       "      <td>Why Intermountain?\\n\\nWe Bring Hope\\n\\nWith ou...</td>\n",
       "      <td>Positive</td>\n",
       "      <td>whyintermountainwebringhopewithourholisticinte...</td>\n",
       "    </tr>\n",
       "    <tr>\n",
       "      <th>4</th>\n",
       "      <td>Reverse Mortgage Funding</td>\n",
       "      <td>4.1</td>\n",
       "      <td>Reverse Mortgage Funding LLC is committed to e...</td>\n",
       "      <td>Neutral</td>\n",
       "      <td>reversemortgagefundingllciscommittedtoenhancin...</td>\n",
       "    </tr>\n",
       "    <tr>\n",
       "      <th>5</th>\n",
       "      <td>VeriFone</td>\n",
       "      <td>3.4</td>\n",
       "      <td>Verifone is an American multinational corporat...</td>\n",
       "      <td>Negative</td>\n",
       "      <td>verifoneisanamericanmultinationalcorporationhe...</td>\n",
       "    </tr>\n",
       "    <tr>\n",
       "      <th>6</th>\n",
       "      <td>VBM Auto Group</td>\n",
       "      <td>3.5</td>\n",
       "      <td>This company is family owned and operated with...</td>\n",
       "      <td>Positive</td>\n",
       "      <td>thiscompanyisfamilyownedandoperatedwithdealers...</td>\n",
       "    </tr>\n",
       "    <tr>\n",
       "      <th>...</th>\n",
       "      <td>...</td>\n",
       "      <td>...</td>\n",
       "      <td>...</td>\n",
       "      <td>...</td>\n",
       "      <td>...</td>\n",
       "    </tr>\n",
       "    <tr>\n",
       "      <th>17045</th>\n",
       "      <td>Billion Automotive</td>\n",
       "      <td>3.2</td>\n",
       "      <td>Billion Automotive, a family owned business si...</td>\n",
       "      <td>Positive</td>\n",
       "      <td>billionautomotiveafamilyownedbusinesssincehasb...</td>\n",
       "    </tr>\n",
       "    <tr>\n",
       "      <th>17046</th>\n",
       "      <td>ScienceLogic Inc</td>\n",
       "      <td>3.0</td>\n",
       "      <td>ScienceLogic is a leader in IT Operations Mana...</td>\n",
       "      <td>Positive</td>\n",
       "      <td>sciencelogicisaleaderinitoperationsmanagementp...</td>\n",
       "    </tr>\n",
       "    <tr>\n",
       "      <th>17047</th>\n",
       "      <td>Northland PACE</td>\n",
       "      <td>2.5</td>\n",
       "      <td>Northland PACE Senior Care Services has at its...</td>\n",
       "      <td>Positive</td>\n",
       "      <td>northlandpaceseniorcareserviceshasatitscorethe...</td>\n",
       "    </tr>\n",
       "    <tr>\n",
       "      <th>17048</th>\n",
       "      <td>Lloyd Staffing</td>\n",
       "      <td>3.9</td>\n",
       "      <td>At LLoyd, we are not just agents of talent, bu...</td>\n",
       "      <td>Positive</td>\n",
       "      <td>atlloydwearenotjustagentsoftalentbutagentsofch...</td>\n",
       "    </tr>\n",
       "    <tr>\n",
       "      <th>17049</th>\n",
       "      <td>North Star Insurance Advisors, LLC</td>\n",
       "      <td>3.8</td>\n",
       "      <td>North Star Insurance Advisors, LLC is a premiu...</td>\n",
       "      <td>Positive</td>\n",
       "      <td>northstarinsuranceadvisorsllcisapremiumfinalex...</td>\n",
       "    </tr>\n",
       "  </tbody>\n",
       "</table>\n",
       "<p>15615 rows × 5 columns</p>\n",
       "</div>"
      ],
      "text/plain": [
       "                                     name  rating  \\\n",
       "1              Meadowbrook Rehabilitation     3.7   \n",
       "2                           Intermountain     4.0   \n",
       "4                Reverse Mortgage Funding     4.1   \n",
       "5                                VeriFone     3.4   \n",
       "6                          VBM Auto Group     3.5   \n",
       "...                                   ...     ...   \n",
       "17045                  Billion Automotive     3.2   \n",
       "17046                    ScienceLogic Inc     3.0   \n",
       "17047                      Northland PACE     2.5   \n",
       "17048                      Lloyd Staffing     3.9   \n",
       "17049  North Star Insurance Advisors, LLC     3.8   \n",
       "\n",
       "                                     reviews_description Sentiment_category  \\\n",
       "1      You'll work with the most experienced and loya...           Positive   \n",
       "2      Why Intermountain?\\n\\nWe Bring Hope\\n\\nWith ou...           Positive   \n",
       "4      Reverse Mortgage Funding LLC is committed to e...            Neutral   \n",
       "5      Verifone is an American multinational corporat...           Negative   \n",
       "6      This company is family owned and operated with...           Positive   \n",
       "...                                                  ...                ...   \n",
       "17045  Billion Automotive, a family owned business si...           Positive   \n",
       "17046  ScienceLogic is a leader in IT Operations Mana...           Positive   \n",
       "17047  Northland PACE Senior Care Services has at its...           Positive   \n",
       "17048  At LLoyd, we are not just agents of talent, bu...           Positive   \n",
       "17049  North Star Insurance Advisors, LLC is a premiu...           Positive   \n",
       "\n",
       "                                         stemmed_content  \n",
       "1      youllworkwiththemostexperiencedandloyalhealthc...  \n",
       "2      whyintermountainwebringhopewithourholisticinte...  \n",
       "4      reversemortgagefundingllciscommittedtoenhancin...  \n",
       "5      verifoneisanamericanmultinationalcorporationhe...  \n",
       "6      thiscompanyisfamilyownedandoperatedwithdealers...  \n",
       "...                                                  ...  \n",
       "17045  billionautomotiveafamilyownedbusinesssincehasb...  \n",
       "17046  sciencelogicisaleaderinitoperationsmanagementp...  \n",
       "17047  northlandpaceseniorcareserviceshasatitscorethe...  \n",
       "17048  atlloydwearenotjustagentsoftalentbutagentsofch...  \n",
       "17049  northstarinsuranceadvisorsllcisapremiumfinalex...  \n",
       "\n",
       "[15615 rows x 5 columns]"
      ]
     },
     "execution_count": 24,
     "metadata": {},
     "output_type": "execute_result"
    }
   ],
   "source": [
    "df"
   ]
  },
  {
   "cell_type": "code",
   "execution_count": 25,
   "id": "955b452c",
   "metadata": {},
   "outputs": [
    {
     "data": {
      "text/html": [
       "<div>\n",
       "<style scoped>\n",
       "    .dataframe tbody tr th:only-of-type {\n",
       "        vertical-align: middle;\n",
       "    }\n",
       "\n",
       "    .dataframe tbody tr th {\n",
       "        vertical-align: top;\n",
       "    }\n",
       "\n",
       "    .dataframe thead th {\n",
       "        text-align: right;\n",
       "    }\n",
       "</style>\n",
       "<table border=\"1\" class=\"dataframe\">\n",
       "  <thead>\n",
       "    <tr style=\"text-align: right;\">\n",
       "      <th></th>\n",
       "      <th>name</th>\n",
       "      <th>rating</th>\n",
       "      <th>reviews_description</th>\n",
       "      <th>Sentiment_category</th>\n",
       "      <th>stemmed_content</th>\n",
       "    </tr>\n",
       "  </thead>\n",
       "  <tbody>\n",
       "    <tr>\n",
       "      <th>1</th>\n",
       "      <td>Meadowbrook Rehabilitation</td>\n",
       "      <td>3.7</td>\n",
       "      <td>You'll work with the most experienced and loya...</td>\n",
       "      <td>Positive</td>\n",
       "      <td>youllworkwiththemostexperiencedandloyalhealthc...</td>\n",
       "    </tr>\n",
       "    <tr>\n",
       "      <th>2</th>\n",
       "      <td>Intermountain</td>\n",
       "      <td>4.0</td>\n",
       "      <td>Why Intermountain?\\n\\nWe Bring Hope\\n\\nWith ou...</td>\n",
       "      <td>Positive</td>\n",
       "      <td>whyintermountainwebringhopewithourholisticinte...</td>\n",
       "    </tr>\n",
       "    <tr>\n",
       "      <th>4</th>\n",
       "      <td>Reverse Mortgage Funding</td>\n",
       "      <td>4.1</td>\n",
       "      <td>Reverse Mortgage Funding LLC is committed to e...</td>\n",
       "      <td>Neutral</td>\n",
       "      <td>reversemortgagefundingllciscommittedtoenhancin...</td>\n",
       "    </tr>\n",
       "    <tr>\n",
       "      <th>5</th>\n",
       "      <td>VeriFone</td>\n",
       "      <td>3.4</td>\n",
       "      <td>Verifone is an American multinational corporat...</td>\n",
       "      <td>Negative</td>\n",
       "      <td>verifoneisanamericanmultinationalcorporationhe...</td>\n",
       "    </tr>\n",
       "    <tr>\n",
       "      <th>6</th>\n",
       "      <td>VBM Auto Group</td>\n",
       "      <td>3.5</td>\n",
       "      <td>This company is family owned and operated with...</td>\n",
       "      <td>Positive</td>\n",
       "      <td>thiscompanyisfamilyownedandoperatedwithdealers...</td>\n",
       "    </tr>\n",
       "  </tbody>\n",
       "</table>\n",
       "</div>"
      ],
      "text/plain": [
       "                         name  rating  \\\n",
       "1  Meadowbrook Rehabilitation     3.7   \n",
       "2               Intermountain     4.0   \n",
       "4    Reverse Mortgage Funding     4.1   \n",
       "5                    VeriFone     3.4   \n",
       "6              VBM Auto Group     3.5   \n",
       "\n",
       "                                 reviews_description Sentiment_category  \\\n",
       "1  You'll work with the most experienced and loya...           Positive   \n",
       "2  Why Intermountain?\\n\\nWe Bring Hope\\n\\nWith ou...           Positive   \n",
       "4  Reverse Mortgage Funding LLC is committed to e...            Neutral   \n",
       "5  Verifone is an American multinational corporat...           Negative   \n",
       "6  This company is family owned and operated with...           Positive   \n",
       "\n",
       "                                     stemmed_content  \n",
       "1  youllworkwiththemostexperiencedandloyalhealthc...  \n",
       "2  whyintermountainwebringhopewithourholisticinte...  \n",
       "4  reversemortgagefundingllciscommittedtoenhancin...  \n",
       "5  verifoneisanamericanmultinationalcorporationhe...  \n",
       "6  thiscompanyisfamilyownedandoperatedwithdealers...  "
      ]
     },
     "execution_count": 25,
     "metadata": {},
     "output_type": "execute_result"
    }
   ],
   "source": [
    "df.head()"
   ]
  },
  {
   "cell_type": "code",
   "execution_count": 27,
   "id": "0d67b522",
   "metadata": {},
   "outputs": [],
   "source": [
    "#seperating the data and label\n",
    "X=df['stemmed_content'].values\n",
    "Y=df['Sentiment_category'].values"
   ]
  },
  {
   "cell_type": "code",
   "execution_count": 28,
   "id": "a0eabc48",
   "metadata": {},
   "outputs": [
    {
     "name": "stdout",
     "output_type": "stream",
     "text": [
      "['youllworkwiththemostexperiencedandloyalhealthcareprofessionalsatmeadowbrookmanorsincemanyofourteammembershavebeenwithusformorethanyearsyoucancountonhighlydedicatedteam'\n",
      " 'whyintermountainwebringhopewithourholisticintegratedservicesandrelationshipbasedapproachwehelpfamiliescreateandsustainnurturinghealthyenvironmentswherechildrencanthriveandgrowintermountainisanonprofitagencythathasbeenimpactingthelivesofchildrenandfamiliesforoveryearsourresidentialcampusatsouthlamborninhelenaincludesourintegratedprivateschoolaswellasourstabilizationcenterprovidencehomeatherapeuticgrouphomeintheflatheadvalleyprovidesanothercarecentercommunityclinicsinhelenaandkalispellincludesomeorallofthefollowingoutpatienttherapyoccupationaltherapycasemanagementpsychiatricmedicationmanagementpsychologicaltestingandevaluationschoolbasedservicesandfamilybasedservicesincludingadoptionfostercareandinhometherapeuticcarejointheteamseasonedexpertssupporteageryounginnovatorsherewhereintegrityandhardworkareexpectedofeveryoneeverydayouraveragelengthofserviceisyearsinmostfieldspositionsindirectcareaswellasbusinessandadministrationareavailablelivethegoodlifelivelyintimateandbeautifulalldescribemontanascapitalcityrecentlyvotedthebestsmallarttowninamericahelenaisalsoknownforitsexcellentschoolsystemitsfamilyfriendlycommunityanditslimitlessoutdoorrecreationopportunitiesyearroundkalispellisalsoahavenforskiershikersandnatureloversandboastsoneofthemostpristinelakesinthecountryflatheadlakeless'\n",
      " 'reversemortgagefundingllciscommittedtoenhancingthefinancialplansofseniorhomeownersthroughgovernmentinsuredfinancialproductsstructuredtosupplementincomeimprovecashflowandpreserveasset'\n",
      " ...\n",
      " 'northlandpaceseniorcareserviceshasatitscorethegoalofhelpingpeopleageandolderstayhealthyindependentandremainintheirhomesandcommunitiesaslongasposs'\n",
      " 'atlloydwearenotjustagentsoftalentbutagentsofchangeworkforceinnovationsnewtechnologydifferentskillsallcreateaneedforareliableresourcewithexpertiseintalentacquisitionandplacementthatswhatlloydisallaboutweadviseandguidejobcandidatesthroughimpactfulcareermovesandwehelpemployersbuildagileandeffectiveworkforcesthatwillservethemwellthroughalleconomiesandbusinesschallengesthelloydmissionistoexcelatidentifyingrepresentingandconnectingworkforcetalentless'\n",
      " 'northstarinsuranceadvisorsllcisapremiumfinalexpensetelesalesinsuranceagencythatisnationallyrecognizedforitsinnovativeapproachtohelpingcustomersobtainlifeinsur']\n"
     ]
    }
   ],
   "source": [
    "print(X)"
   ]
  },
  {
   "cell_type": "code",
   "execution_count": 29,
   "id": "8b01bcc7",
   "metadata": {},
   "outputs": [
    {
     "name": "stdout",
     "output_type": "stream",
     "text": [
      "['Positive' 'Positive' 'Neutral' ... 'Positive' 'Positive' 'Positive']\n"
     ]
    }
   ],
   "source": [
    "print(Y)"
   ]
  },
  {
   "cell_type": "code",
   "execution_count": 30,
   "id": "ad834326",
   "metadata": {},
   "outputs": [],
   "source": [
    "#splitting the data to training and test data\n",
    "X_train,X_test,Y_train,Y_test=train_test_split(X,Y,test_size=0.2,stratify=Y,random_state=2)"
   ]
  },
  {
   "cell_type": "code",
   "execution_count": 31,
   "id": "72547c03",
   "metadata": {},
   "outputs": [
    {
     "name": "stdout",
     "output_type": "stream",
     "text": [
      "(15615,) (12492,) (3123,)\n"
     ]
    }
   ],
   "source": [
    "print(X.shape,X_train.shape,X_test.shape)"
   ]
  },
  {
   "cell_type": "code",
   "execution_count": 32,
   "id": "924eb5c8",
   "metadata": {},
   "outputs": [],
   "source": [
    "#converting textual data to numerical data                             #frequency of the word checked\n",
    "vectorizer=TfidfVectorizer()\n",
    "\n",
    "X_train=vectorizer.fit_transform(X_train)                  #fitting->understanding what kind of data, transforming->converting data to numerical values\n",
    "X_test=vectorizer.transform(X_test)"
   ]
  },
  {
   "cell_type": "code",
   "execution_count": 33,
   "id": "e4981bd8",
   "metadata": {},
   "outputs": [
    {
     "name": "stdout",
     "output_type": "stream",
     "text": [
      "  (0, 7896)\t1.0\n",
      "  (1, 2181)\t1.0\n",
      "  (2, 10075)\t1.0\n",
      "  (3, 7481)\t1.0\n",
      "  (4, 5963)\t1.0\n",
      "  (5, 9225)\t1.0\n",
      "  (6, 11803)\t1.0\n",
      "  (7, 481)\t1.0\n",
      "  (8, 9592)\t1.0\n",
      "  (9, 9612)\t1.0\n",
      "  (10, 12222)\t1.0\n",
      "  (11, 10532)\t1.0\n",
      "  (12, 11497)\t1.0\n",
      "  (13, 6356)\t1.0\n",
      "  (14, 8677)\t1.0\n",
      "  (15, 9530)\t1.0\n",
      "  (16, 9065)\t1.0\n",
      "  (17, 3145)\t1.0\n",
      "  (18, 7747)\t1.0\n",
      "  (19, 1359)\t1.0\n",
      "  (20, 4590)\t1.0\n",
      "  (21, 7314)\t1.0\n",
      "  (22, 9443)\t1.0\n",
      "  (23, 6969)\t1.0\n",
      "  (24, 3999)\t1.0\n",
      "  :\t:\n",
      "  (12467, 11663)\t1.0\n",
      "  (12468, 978)\t1.0\n",
      "  (12469, 11624)\t1.0\n",
      "  (12470, 64)\t1.0\n",
      "  (12471, 9239)\t1.0\n",
      "  (12472, 10912)\t1.0\n",
      "  (12473, 938)\t1.0\n",
      "  (12474, 9566)\t1.0\n",
      "  (12475, 4196)\t1.0\n",
      "  (12476, 8894)\t1.0\n",
      "  (12477, 9890)\t1.0\n",
      "  (12478, 7826)\t1.0\n",
      "  (12479, 2870)\t1.0\n",
      "  (12480, 9078)\t1.0\n",
      "  (12481, 10729)\t1.0\n",
      "  (12482, 7755)\t1.0\n",
      "  (12483, 8374)\t1.0\n",
      "  (12484, 6748)\t1.0\n",
      "  (12485, 1563)\t1.0\n",
      "  (12486, 5664)\t1.0\n",
      "  (12487, 1097)\t1.0\n",
      "  (12488, 1911)\t1.0\n",
      "  (12489, 12362)\t1.0\n",
      "  (12490, 7054)\t1.0\n",
      "  (12491, 9615)\t1.0\n"
     ]
    }
   ],
   "source": [
    "print(X_train)"
   ]
  },
  {
   "cell_type": "code",
   "execution_count": 34,
   "id": "36c4abe2",
   "metadata": {},
   "outputs": [
    {
     "name": "stdout",
     "output_type": "stream",
     "text": [
      "  (541, 266)\t1.0\n",
      "  (602, 7610)\t1.0\n",
      "  (900, 7135)\t1.0\n",
      "  (927, 5024)\t1.0\n",
      "  (972, 2199)\t1.0\n",
      "  (1218, 5534)\t1.0\n",
      "  (1257, 6121)\t1.0\n",
      "  (1353, 9855)\t1.0\n",
      "  (1794, 11753)\t1.0\n",
      "  (1878, 7094)\t1.0\n",
      "  (1961, 5122)\t1.0\n",
      "  (1989, 12045)\t1.0\n",
      "  (2021, 2424)\t1.0\n",
      "  (2242, 129)\t1.0\n",
      "  (2246, 11773)\t1.0\n",
      "  (2332, 2559)\t1.0\n"
     ]
    }
   ],
   "source": [
    "print(X_test)"
   ]
  },
  {
   "cell_type": "code",
   "execution_count": 35,
   "id": "4c591334",
   "metadata": {},
   "outputs": [],
   "source": [
    "#Training the logistic regression model\n",
    "model=LogisticRegression(max_iter=1000)     #max_iter=maximum number of times the model has to go through the data"
   ]
  },
  {
   "cell_type": "code",
   "execution_count": 37,
   "id": "5bf0bbce",
   "metadata": {},
   "outputs": [
    {
     "data": {
      "text/html": [
       "<style>#sk-container-id-1 {color: black;}#sk-container-id-1 pre{padding: 0;}#sk-container-id-1 div.sk-toggleable {background-color: white;}#sk-container-id-1 label.sk-toggleable__label {cursor: pointer;display: block;width: 100%;margin-bottom: 0;padding: 0.3em;box-sizing: border-box;text-align: center;}#sk-container-id-1 label.sk-toggleable__label-arrow:before {content: \"▸\";float: left;margin-right: 0.25em;color: #696969;}#sk-container-id-1 label.sk-toggleable__label-arrow:hover:before {color: black;}#sk-container-id-1 div.sk-estimator:hover label.sk-toggleable__label-arrow:before {color: black;}#sk-container-id-1 div.sk-toggleable__content {max-height: 0;max-width: 0;overflow: hidden;text-align: left;background-color: #f0f8ff;}#sk-container-id-1 div.sk-toggleable__content pre {margin: 0.2em;color: black;border-radius: 0.25em;background-color: #f0f8ff;}#sk-container-id-1 input.sk-toggleable__control:checked~div.sk-toggleable__content {max-height: 200px;max-width: 100%;overflow: auto;}#sk-container-id-1 input.sk-toggleable__control:checked~label.sk-toggleable__label-arrow:before {content: \"▾\";}#sk-container-id-1 div.sk-estimator input.sk-toggleable__control:checked~label.sk-toggleable__label {background-color: #d4ebff;}#sk-container-id-1 div.sk-label input.sk-toggleable__control:checked~label.sk-toggleable__label {background-color: #d4ebff;}#sk-container-id-1 input.sk-hidden--visually {border: 0;clip: rect(1px 1px 1px 1px);clip: rect(1px, 1px, 1px, 1px);height: 1px;margin: -1px;overflow: hidden;padding: 0;position: absolute;width: 1px;}#sk-container-id-1 div.sk-estimator {font-family: monospace;background-color: #f0f8ff;border: 1px dotted black;border-radius: 0.25em;box-sizing: border-box;margin-bottom: 0.5em;}#sk-container-id-1 div.sk-estimator:hover {background-color: #d4ebff;}#sk-container-id-1 div.sk-parallel-item::after {content: \"\";width: 100%;border-bottom: 1px solid gray;flex-grow: 1;}#sk-container-id-1 div.sk-label:hover label.sk-toggleable__label {background-color: #d4ebff;}#sk-container-id-1 div.sk-serial::before {content: \"\";position: absolute;border-left: 1px solid gray;box-sizing: border-box;top: 0;bottom: 0;left: 50%;z-index: 0;}#sk-container-id-1 div.sk-serial {display: flex;flex-direction: column;align-items: center;background-color: white;padding-right: 0.2em;padding-left: 0.2em;position: relative;}#sk-container-id-1 div.sk-item {position: relative;z-index: 1;}#sk-container-id-1 div.sk-parallel {display: flex;align-items: stretch;justify-content: center;background-color: white;position: relative;}#sk-container-id-1 div.sk-item::before, #sk-container-id-1 div.sk-parallel-item::before {content: \"\";position: absolute;border-left: 1px solid gray;box-sizing: border-box;top: 0;bottom: 0;left: 50%;z-index: -1;}#sk-container-id-1 div.sk-parallel-item {display: flex;flex-direction: column;z-index: 1;position: relative;background-color: white;}#sk-container-id-1 div.sk-parallel-item:first-child::after {align-self: flex-end;width: 50%;}#sk-container-id-1 div.sk-parallel-item:last-child::after {align-self: flex-start;width: 50%;}#sk-container-id-1 div.sk-parallel-item:only-child::after {width: 0;}#sk-container-id-1 div.sk-dashed-wrapped {border: 1px dashed gray;margin: 0 0.4em 0.5em 0.4em;box-sizing: border-box;padding-bottom: 0.4em;background-color: white;}#sk-container-id-1 div.sk-label label {font-family: monospace;font-weight: bold;display: inline-block;line-height: 1.2em;}#sk-container-id-1 div.sk-label-container {text-align: center;}#sk-container-id-1 div.sk-container {/* jupyter's `normalize.less` sets `[hidden] { display: none; }` but bootstrap.min.css set `[hidden] { display: none !important; }` so we also need the `!important` here to be able to override the default hidden behavior on the sphinx rendered scikit-learn.org. See: https://github.com/scikit-learn/scikit-learn/issues/21755 */display: inline-block !important;position: relative;}#sk-container-id-1 div.sk-text-repr-fallback {display: none;}</style><div id=\"sk-container-id-1\" class=\"sk-top-container\"><div class=\"sk-text-repr-fallback\"><pre>LogisticRegression(max_iter=1000)</pre><b>In a Jupyter environment, please rerun this cell to show the HTML representation or trust the notebook. <br />On GitHub, the HTML representation is unable to render, please try loading this page with nbviewer.org.</b></div><div class=\"sk-container\" hidden><div class=\"sk-item\"><div class=\"sk-estimator sk-toggleable\"><input class=\"sk-toggleable__control sk-hidden--visually\" id=\"sk-estimator-id-1\" type=\"checkbox\" checked><label for=\"sk-estimator-id-1\" class=\"sk-toggleable__label sk-toggleable__label-arrow\">LogisticRegression</label><div class=\"sk-toggleable__content\"><pre>LogisticRegression(max_iter=1000)</pre></div></div></div></div></div>"
      ],
      "text/plain": [
       "LogisticRegression(max_iter=1000)"
      ]
     },
     "execution_count": 37,
     "metadata": {},
     "output_type": "execute_result"
    }
   ],
   "source": [
    "model.fit(X_train,Y_train)"
   ]
  },
  {
   "cell_type": "markdown",
   "id": "d3b61fdf",
   "metadata": {},
   "source": [
    "# Model Evaluation"
   ]
  },
  {
   "cell_type": "code",
   "execution_count": 38,
   "id": "8fb1e4c0",
   "metadata": {},
   "outputs": [],
   "source": [
    "#accuracy score on the data\n",
    "X_train_prediction=model.predict(X_train)\n",
    "training_data_accuracy=accuracy_score(Y_train,X_train_prediction)      #compare the predicted data with the true values"
   ]
  },
  {
   "cell_type": "code",
   "execution_count": 39,
   "id": "c2bf8acc",
   "metadata": {},
   "outputs": [
    {
     "name": "stdout",
     "output_type": "stream",
     "text": [
      "Accuracy score on the training data :  0.8649535702849824\n"
     ]
    }
   ],
   "source": [
    "print(\"Accuracy score on the training data : \",training_data_accuracy)"
   ]
  },
  {
   "cell_type": "code",
   "execution_count": 40,
   "id": "218ea79c",
   "metadata": {},
   "outputs": [],
   "source": [
    "X_test_prediction=model.predict(X_test)\n",
    "test_data_accuracy=accuracy_score(Y_test,X_test_prediction)"
   ]
  },
  {
   "cell_type": "code",
   "execution_count": 41,
   "id": "02b52114",
   "metadata": {},
   "outputs": [
    {
     "name": "stdout",
     "output_type": "stream",
     "text": [
      "Accuracy score on the test data :  0.8648735190521935\n"
     ]
    }
   ],
   "source": [
    "print(\"Accuracy score on the test data : \",test_data_accuracy)"
   ]
  },
  {
   "cell_type": "code",
   "execution_count": 42,
   "id": "32669325",
   "metadata": {},
   "outputs": [],
   "source": [
    "#using Multinomial NB classifier\n",
    "\n",
    "from sklearn.naive_bayes import MultinomialNB"
   ]
  },
  {
   "cell_type": "code",
   "execution_count": 43,
   "id": "205505d5",
   "metadata": {},
   "outputs": [
    {
     "name": "stdout",
     "output_type": "stream",
     "text": [
      "MultinomialNB()\n",
      "MultinomialNB()\n"
     ]
    }
   ],
   "source": [
    "#training the model\n",
    "mnb=MultinomialNB()\n",
    "#fitting the svm for bag of words\n",
    "mnb_bow=mnb.fit(X_train,Y_train)\n",
    "print(mnb_bow)\n",
    "#fitting the svm for tfidf features\n",
    "mnb_tfidf=mnb.fit(X_train,Y_train)\n",
    "print(mnb_tfidf)"
   ]
  },
  {
   "cell_type": "code",
   "execution_count": 44,
   "id": "79b9a137",
   "metadata": {},
   "outputs": [
    {
     "name": "stdout",
     "output_type": "stream",
     "text": [
      "['Positive' 'Positive' 'Positive' ... 'Positive' 'Positive' 'Positive']\n",
      "['Positive' 'Positive' 'Positive' ... 'Positive' 'Positive' 'Positive']\n"
     ]
    }
   ],
   "source": [
    "#PREDICTING THE MODEL\n",
    "#Predicting the model for bag of words\n",
    "mnb_bow_predict=mnb.predict(X_test)\n",
    "print(mnb_bow_predict)\n",
    "#Predicting the model for tfidf features\n",
    "mnb_tfidf_predict=mnb.predict(X_test)\n",
    "print(mnb_tfidf_predict)"
   ]
  },
  {
   "cell_type": "code",
   "execution_count": 45,
   "id": "7720232e",
   "metadata": {},
   "outputs": [
    {
     "name": "stdout",
     "output_type": "stream",
     "text": [
      "mnb_bow_score : 0.8648735190521935\n",
      "mnb_tfidf_score : 0.8648735190521935\n"
     ]
    }
   ],
   "source": [
    "#ACCURACY USING MULTONOMIAL NAIVE BAYES\n",
    "#Accuracy score for bag of words\n",
    "mnb_bow_score=accuracy_score(Y_test,mnb_bow_predict)\n",
    "print(\"mnb_bow_score :\",mnb_bow_score)\n",
    "#Accuracy score for tfidf features\n",
    "mnb_tfidf_score=accuracy_score(Y_test,mnb_tfidf_predict)\n",
    "print(\"mnb_tfidf_score :\",mnb_tfidf_score)"
   ]
  }
 ],
 "metadata": {
  "kernelspec": {
   "display_name": "Python 3 (ipykernel)",
   "language": "python",
   "name": "python3"
  },
  "language_info": {
   "codemirror_mode": {
    "name": "ipython",
    "version": 3
   },
   "file_extension": ".py",
   "mimetype": "text/x-python",
   "name": "python",
   "nbconvert_exporter": "python",
   "pygments_lexer": "ipython3",
   "version": "3.11.5"
  }
 },
 "nbformat": 4,
 "nbformat_minor": 5
}
